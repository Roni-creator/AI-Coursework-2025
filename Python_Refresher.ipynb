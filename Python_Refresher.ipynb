{
  "nbformat": 4,
  "nbformat_minor": 0,
  "metadata": {
    "colab": {
      "provenance": [],
      "authorship_tag": "ABX9TyNK88R3Q57XEJ+0gro0Fwho",
      "include_colab_link": true
    },
    "kernelspec": {
      "name": "python3",
      "display_name": "Python 3"
    },
    "language_info": {
      "name": "python"
    }
  },
  "cells": [
    {
      "cell_type": "markdown",
      "metadata": {
        "id": "view-in-github",
        "colab_type": "text"
      },
      "source": [
        "<a href=\"https://colab.research.google.com/github/Roni-creator/AI-Coursework-2025/blob/main/Python_Refresher.ipynb\" target=\"_parent\"><img src=\"https://colab.research.google.com/assets/colab-badge.svg\" alt=\"Open In Colab\"/></a>"
      ]
    },
    {
      "cell_type": "code",
      "execution_count": null,
      "metadata": {
        "colab": {
          "base_uri": "https://localhost:8080/"
        },
        "id": "z7-dVUXgFS3r",
        "outputId": "6366e74e-a621-4c59-d495-188e315f2140"
      },
      "outputs": [
        {
          "output_type": "stream",
          "name": "stdout",
          "text": [
            "Enter number of days: 6\n",
            "6 days is equal to 518400 seconds.\n"
          ]
        }
      ],
      "source": [
        "# Program to calculate the number of seconds in given days\n",
        "\n",
        "# Input the number of days\n",
        "days = int(input(\"Enter number of days: \"))\n",
        "\n",
        "# 1 day = 24 hours, 1 hour = 60 minutes, 1 minute = 60 seconds\n",
        "seconds = days * 24 * 60 * 60\n",
        "\n",
        "# Display result\n",
        "print(f\"{days} days is equal to {seconds} seconds.\")\n"
      ]
    },
    {
      "cell_type": "code",
      "source": [
        "# Program to calculate the volume of a sphere\n",
        "\n",
        "import math\n",
        "\n",
        "# Input radius digit\n",
        "radius = float(input(\"Enter the radius of the sphere: \"))\n",
        "\n",
        "# Formula: Volume = (4/3) * π * r^3\n",
        "volume = (4/3) * math.pi * (radius ** 3)\n",
        "\n",
        "# Display result\n",
        "print(f\"The volume of the sphere with radius {radius} is {volume:.2f}\")\n"
      ],
      "metadata": {
        "id": "tDdXemOlFg9b",
        "colab": {
          "base_uri": "https://localhost:8080/"
        },
        "outputId": "8318beb3-612d-4032-9fc4-2b14e4567277"
      },
      "execution_count": null,
      "outputs": [
        {
          "output_type": "stream",
          "name": "stdout",
          "text": [
            "Enter the radius of the sphere: 4\n",
            "The volume of the sphere with radius 4.0 is 268.08\n"
          ]
        }
      ]
    },
    {
      "cell_type": "code",
      "source": [
        "# Program to calculate area and perimeter of a square using functions\n",
        "\n",
        "# Function to calculate area\n",
        "def area(side):\n",
        "    return side * side\n",
        "\n",
        "# Function to calculate perimeter\n",
        "def perimeter(side):\n",
        "    return 4 * side\n",
        "\n",
        "# Ask user for side length\n",
        "side_length = float(input(\"Enter the side length of the square: \"))\n",
        "\n",
        "# Call functions and display\n",
        "print(f\"Area of square: {area(side_length)}\")\n",
        "print(f\"Perimeter of square: {perimeter(side_length)}\")\n"
      ],
      "metadata": {
        "colab": {
          "base_uri": "https://localhost:8080/"
        },
        "id": "VIZ-uCHErfRd",
        "outputId": "d9ef3136-2ac5-4874-ca1f-439eec4b110e"
      },
      "execution_count": null,
      "outputs": [
        {
          "output_type": "stream",
          "name": "stdout",
          "text": [
            "Enter the side length of the square: 6\n",
            "Area of square: 36.0\n",
            "Perimeter of square: 24.0\n"
          ]
        }
      ]
    },
    {
      "cell_type": "code",
      "source": [
        "# Program to check if a character is uppercase or lowercase\n",
        "\n",
        "def check_case(char):\n",
        "    if char.isupper():\n",
        "        return \"Uppercase\"\n",
        "    elif char.islower():\n",
        "        return \"Lowercase\"\n",
        "    else:\n",
        "        return \"Not a letter\"\n",
        "\n",
        "# Input a single character\n",
        "character = input(\"Enter a character: \")\n",
        "\n",
        "# Call function\n",
        "print(f\"The character '{character}' is {check_case(character)}.\")\n"
      ],
      "metadata": {
        "colab": {
          "base_uri": "https://localhost:8080/"
        },
        "id": "syBHll6Jri_p",
        "outputId": "cdefcd59-8444-47bd-89ac-188845f5f764"
      },
      "execution_count": null,
      "outputs": [
        {
          "output_type": "stream",
          "name": "stdout",
          "text": [
            "Enter a character: t\n",
            "The character 't' is Lowercase.\n"
          ]
        }
      ]
    },
    {
      "cell_type": "code",
      "source": [
        "# Program to implement the given pseudocode\n",
        "\n",
        "x = 0\n",
        "y = 20\n",
        "\n",
        "# Loop until y is less than 6\n",
        "while y >= 6:\n",
        "    y -= 4\n",
        "    x += 2 / y\n",
        "\n",
        "# Display result\n",
        "print(f\"Final value of x: {x}\")\n"
      ],
      "metadata": {
        "id": "YFjKZ9OIrrK8"
      },
      "execution_count": null,
      "outputs": []
    },
    {
      "cell_type": "code",
      "source": [
        "# Program to take 5 inputs, store in a list, and calculate average\n",
        "\n",
        "values = []\n",
        "\n",
        "# Get 5 values from user\n",
        "for i in range(5):\n",
        "    num = float(input(f\"Enter value {i+1}: \"))\n",
        "    values.append(num)\n",
        "\n",
        "# Calculate average\n",
        "average = sum(values) / len(values)\n",
        "\n",
        "# Display results\n",
        "print(\"Values entered:\", values)\n",
        "print(\"Average of values:\", average)\n"
      ],
      "metadata": {
        "colab": {
          "base_uri": "https://localhost:8080/"
        },
        "id": "7qfoskNLruND",
        "outputId": "a27d1e06-95d2-40f3-9fa4-9e0816d1e342"
      },
      "execution_count": null,
      "outputs": [
        {
          "output_type": "stream",
          "name": "stdout",
          "text": [
            "Enter value 1: 5\n",
            "Enter value 2: 6\n",
            "Enter value 3: 3\n",
            "Enter value 4: 5\n",
            "Enter value 5: 2\n",
            "Values entered: [5.0, 6.0, 3.0, 5.0, 2.0]\n",
            "Average of values: 4.2\n"
          ]
        }
      ]
    }
  ]
}